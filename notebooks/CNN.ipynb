{
 "cells": [
  {
   "cell_type": "code",
   "execution_count": 1,
   "metadata": {},
   "outputs": [],
   "source": [
    "import numpy as np\n",
    "import pandas as pd\n",
    "import matplotlib.pyplot as plt\n",
    "%matplotlib inline\n",
    "\n",
    "from sklearn.model_selection import train_test_split\n",
    "import tensorflow as tf\n",
    "from tensorflow.keras.layers import Conv2D, Flatten, MaxPooling2D, Dense\n",
    "from tensorflow.keras.models import Sequential"
   ]
  },
  {
   "cell_type": "markdown",
   "metadata": {},
   "source": [
    "# Model"
   ]
  },
  {
   "cell_type": "code",
   "execution_count": 5,
   "metadata": {},
   "outputs": [],
   "source": [
    "def oneIterCNN(info_ch=64, ch=128):\n",
    "    ''' \n",
    "    creates the core iterated CNN block for one delta\n",
    "    '''\n",
    "    loss = tf.losses.BinaryCrossentropy(from_logits=True)\n",
    "    model = Sequential()\n",
    "    model.add(Conv2D(filters=ch, activation='relu', kernel_size=5, padding='same', input_shape=(25, 25, info_ch)))\n",
    "    model.add(Conv2D(filters=ch, activation='relu', kernel_size=3, padding='same', input_shape=(25, 25, ch)))\n",
    "    model.add(Conv2D(filters=info_ch, activation='relu', kernel_size=3, padding='same', input_shape=(25, 25, ch)))\n",
    "    model.compile(loss=loss, optimizer='adam', metrics=['accuracy'])\n",
    "    return model"
   ]
  },
  {
   "cell_type": "code",
   "execution_count": 6,
   "metadata": {},
   "outputs": [
    {
     "name": "stdout",
     "output_type": "stream",
     "text": [
      "Model: \"sequential\"\n",
      "_________________________________________________________________\n",
      "Layer (type)                 Output Shape              Param #   \n",
      "=================================================================\n",
      "conv2d (Conv2D)              (None, 25, 25, 128)       204928    \n",
      "_________________________________________________________________\n",
      "conv2d_1 (Conv2D)            (None, 25, 25, 128)       147584    \n",
      "_________________________________________________________________\n",
      "conv2d_2 (Conv2D)            (None, 25, 25, 64)        73792     \n",
      "=================================================================\n",
      "Total params: 426,304\n",
      "Trainable params: 426,304\n",
      "Non-trainable params: 0\n",
      "_________________________________________________________________\n"
     ]
    }
   ],
   "source": [
    "oneIterCNN().summary()"
   ]
  },
  {
   "cell_type": "code",
   "execution_count": 7,
   "metadata": {},
   "outputs": [],
   "source": [
    "class OneIterCNN(tf.keras.Model):\n",
    "    def __init__(self, info_ch, ch):\n",
    "        super(OneIterCNN, self).__init__()\n",
    "        self.conv1 = Conv2D(filters=ch, activation='relu', kernel_size=5, padding='same', input_shape=(25, 25, info_ch))\n",
    "        self.conv2 = Conv2D(filters=ch, activation='relu', kernel_size=3, padding='same', input_shape=(25, 25, ch))\n",
    "        self.conv3 = Conv2D(filters=info_ch, activation='relu', kernel_size=3, padding='same', input_shape=(25, 25, ch))\n",
    "        \n",
    "    def call(self, inputs):\n",
    "        x = self.conv1(inputs)\n",
    "        x = self.conv2(x)\n",
    "        x = self.conv3(x)\n",
    "        return x        "
   ]
  },
  {
   "cell_type": "code",
   "execution_count": 135,
   "metadata": {},
   "outputs": [],
   "source": [
    "class IterCNN(tf.keras.Model):\n",
    "    def __init__(self, info_ch=64, ch=128):\n",
    "        super(IterCNN, self).__init__()\n",
    "        self.encoder = Conv2D(filters=64, activation = 'relu', kernel_size=7, padding='same', input_shape=(25, 25, 1))\n",
    "        self.one_iter = OneIterCNN(info_ch, ch)\n",
    "        self.decoder = Conv2D(filters=1, activation='relu', kernel_size=3, padding='same', input_shape=(25, 25, 64))\n",
    "        \n",
    "    def call(self, inputs):\n",
    "        stop, delta = inputs\n",
    "        x = self.encoder(stop-0.5)\n",
    "        for i in range(tf.keras.backend.max(delta)):\n",
    "            y = self.one_iter(x)\n",
    "            # allows for different delta in the same batch\n",
    "            mask = tf.keras.backend.reshape((delta > i), (-1,1,1,1))\n",
    "            x = x*(tf.keras.backend.cast(~mask, 'float32')) + y*tf.keras.backend.cast(mask, 'float32')\n",
    "        x = self.decoder(x)\n",
    "        return x"
   ]
  },
  {
   "cell_type": "code",
   "execution_count": 136,
   "metadata": {},
   "outputs": [],
   "source": [
    "loss = tf.losses.BinaryCrossentropy(from_logits=True)\n",
    "\n",
    "model = IterCNN()"
   ]
  },
  {
   "cell_type": "code",
   "execution_count": 137,
   "metadata": {},
   "outputs": [],
   "source": [
    "model.compile(loss=loss, optimizer='adam', metrics=['accuracy'])"
   ]
  },
  {
   "cell_type": "markdown",
   "metadata": {},
   "source": [
    "# Load Data"
   ]
  },
  {
   "cell_type": "code",
   "execution_count": 18,
   "metadata": {},
   "outputs": [],
   "source": [
    "# import data\n",
    "df = pd.read_csv('../data/train.csv', index_col='id')\n",
    "train, val = train_test_split(df, test_size=0.2, shuffle=True, random_state=42, stratify=df['delta'])"
   ]
  },
  {
   "cell_type": "markdown",
   "metadata": {},
   "source": [
    "# Process Data"
   ]
  },
  {
   "cell_type": "code",
   "execution_count": 55,
   "metadata": {},
   "outputs": [],
   "source": [
    "def process_data(df: pd.DataFrame) -> (np.array, np.array, np.array):\n",
    "    '''\n",
    "    takes a dataframe of the same format as the csv loaded dataframe, extracts those boards, and \n",
    "    reshapes them to be the appropriate shape for CNN. \n",
    "    \n",
    "    inputs: df is a pandas DataFrame with train data. \n",
    "    outputs: multi-dimensional np.arrays, train are the train stop boards, y_train are the train start boards, delta \n",
    "             is the number of steps required\n",
    "    '''\n",
    "    len_data = df.shape[0]\n",
    "    delta = df.loc[:, 'delta'].values.astype('int32')\n",
    "    stop_boards = df.loc[:, ['stop_{}'.format(i) for i in range(625)]].values.astype('float32').reshape(len_data, 25, 25, 1)\n",
    "    start_boards = df.loc[:, ['start_{}'.format(i) for i in range(625)]].values.astype('float32').reshape(len_data, 25, 25, 1)\n",
    "    return stop_boards, start_boards, delta"
   ]
  },
  {
   "cell_type": "code",
   "execution_count": 60,
   "metadata": {},
   "outputs": [],
   "source": [
    "stop_train, start_train, delta_train = process_data(train)\n",
    "stop_val, start_val, delta_val = process_data(val)"
   ]
  },
  {
   "cell_type": "code",
   "execution_count": 61,
   "metadata": {},
   "outputs": [
    {
     "name": "stdout",
     "output_type": "stream",
     "text": [
      "(40000, 25, 25, 1)\n",
      "(40000, 25, 25, 1)\n",
      "(40000,)\n",
      "(10000, 25, 25, 1)\n",
      "(10000, 25, 25, 1)\n",
      "(40000,)\n"
     ]
    }
   ],
   "source": [
    "print(stop_train.shape)\n",
    "print(start_train.shape)\n",
    "print(delta_train.shape)\n",
    "print(stop_val.shape)\n",
    "print(start_val.shape)\n",
    "print(delta_train.shape)"
   ]
  },
  {
   "cell_type": "code",
   "execution_count": 139,
   "metadata": {
    "scrolled": true
   },
   "outputs": [
    {
     "name": "stdout",
     "output_type": "stream",
     "text": [
      "Epoch 1/3\n",
      "1250/1250 [==============================] - 1732s 1s/step - loss: 0.6932 - accuracy: 0.8411\n",
      "Epoch 2/3\n",
      "1250/1250 [==============================] - 4244s 3s/step - loss: 0.6932 - accuracy: 0.8411\n",
      "Epoch 3/3\n",
      "1250/1250 [==============================] - 1694s 1s/step - loss: 0.6932 - accuracy: 0.8411\n"
     ]
    },
    {
     "data": {
      "text/plain": [
       "<tensorflow.python.keras.callbacks.History at 0x14532da10>"
      ]
     },
     "execution_count": 139,
     "metadata": {},
     "output_type": "execute_result"
    }
   ],
   "source": [
    "model.fit(x=(stop_train, delta_train), y=start_train, epochs=3, verbose=1)"
   ]
  },
  {
   "cell_type": "markdown",
   "metadata": {},
   "source": [
    "# Test"
   ]
  },
  {
   "cell_type": "code",
   "execution_count": 140,
   "metadata": {},
   "outputs": [],
   "source": [
    "test = pd.read_csv('../data/test.csv', index_col='id')"
   ]
  },
  {
   "cell_type": "code",
   "execution_count": 141,
   "metadata": {},
   "outputs": [
    {
     "data": {
      "text/html": [
       "<div>\n",
       "<style scoped>\n",
       "    .dataframe tbody tr th:only-of-type {\n",
       "        vertical-align: middle;\n",
       "    }\n",
       "\n",
       "    .dataframe tbody tr th {\n",
       "        vertical-align: top;\n",
       "    }\n",
       "\n",
       "    .dataframe thead th {\n",
       "        text-align: right;\n",
       "    }\n",
       "</style>\n",
       "<table border=\"1\" class=\"dataframe\">\n",
       "  <thead>\n",
       "    <tr style=\"text-align: right;\">\n",
       "      <th></th>\n",
       "      <th>delta</th>\n",
       "      <th>stop_0</th>\n",
       "      <th>stop_1</th>\n",
       "      <th>stop_2</th>\n",
       "      <th>stop_3</th>\n",
       "      <th>stop_4</th>\n",
       "      <th>stop_5</th>\n",
       "      <th>stop_6</th>\n",
       "      <th>stop_7</th>\n",
       "      <th>stop_8</th>\n",
       "      <th>...</th>\n",
       "      <th>stop_615</th>\n",
       "      <th>stop_616</th>\n",
       "      <th>stop_617</th>\n",
       "      <th>stop_618</th>\n",
       "      <th>stop_619</th>\n",
       "      <th>stop_620</th>\n",
       "      <th>stop_621</th>\n",
       "      <th>stop_622</th>\n",
       "      <th>stop_623</th>\n",
       "      <th>stop_624</th>\n",
       "    </tr>\n",
       "    <tr>\n",
       "      <th>id</th>\n",
       "      <th></th>\n",
       "      <th></th>\n",
       "      <th></th>\n",
       "      <th></th>\n",
       "      <th></th>\n",
       "      <th></th>\n",
       "      <th></th>\n",
       "      <th></th>\n",
       "      <th></th>\n",
       "      <th></th>\n",
       "      <th></th>\n",
       "      <th></th>\n",
       "      <th></th>\n",
       "      <th></th>\n",
       "      <th></th>\n",
       "      <th></th>\n",
       "      <th></th>\n",
       "      <th></th>\n",
       "      <th></th>\n",
       "      <th></th>\n",
       "      <th></th>\n",
       "    </tr>\n",
       "  </thead>\n",
       "  <tbody>\n",
       "    <tr>\n",
       "      <td>50000</td>\n",
       "      <td>5</td>\n",
       "      <td>0</td>\n",
       "      <td>0</td>\n",
       "      <td>1</td>\n",
       "      <td>0</td>\n",
       "      <td>0</td>\n",
       "      <td>0</td>\n",
       "      <td>0</td>\n",
       "      <td>0</td>\n",
       "      <td>0</td>\n",
       "      <td>...</td>\n",
       "      <td>0</td>\n",
       "      <td>0</td>\n",
       "      <td>0</td>\n",
       "      <td>0</td>\n",
       "      <td>1</td>\n",
       "      <td>0</td>\n",
       "      <td>1</td>\n",
       "      <td>0</td>\n",
       "      <td>0</td>\n",
       "      <td>1</td>\n",
       "    </tr>\n",
       "    <tr>\n",
       "      <td>50001</td>\n",
       "      <td>5</td>\n",
       "      <td>0</td>\n",
       "      <td>0</td>\n",
       "      <td>0</td>\n",
       "      <td>0</td>\n",
       "      <td>0</td>\n",
       "      <td>0</td>\n",
       "      <td>0</td>\n",
       "      <td>1</td>\n",
       "      <td>0</td>\n",
       "      <td>...</td>\n",
       "      <td>0</td>\n",
       "      <td>0</td>\n",
       "      <td>1</td>\n",
       "      <td>1</td>\n",
       "      <td>0</td>\n",
       "      <td>1</td>\n",
       "      <td>0</td>\n",
       "      <td>0</td>\n",
       "      <td>0</td>\n",
       "      <td>0</td>\n",
       "    </tr>\n",
       "    <tr>\n",
       "      <td>50002</td>\n",
       "      <td>1</td>\n",
       "      <td>0</td>\n",
       "      <td>1</td>\n",
       "      <td>0</td>\n",
       "      <td>0</td>\n",
       "      <td>1</td>\n",
       "      <td>0</td>\n",
       "      <td>0</td>\n",
       "      <td>0</td>\n",
       "      <td>0</td>\n",
       "      <td>...</td>\n",
       "      <td>1</td>\n",
       "      <td>1</td>\n",
       "      <td>0</td>\n",
       "      <td>0</td>\n",
       "      <td>0</td>\n",
       "      <td>0</td>\n",
       "      <td>1</td>\n",
       "      <td>0</td>\n",
       "      <td>1</td>\n",
       "      <td>0</td>\n",
       "    </tr>\n",
       "    <tr>\n",
       "      <td>50003</td>\n",
       "      <td>2</td>\n",
       "      <td>0</td>\n",
       "      <td>0</td>\n",
       "      <td>0</td>\n",
       "      <td>0</td>\n",
       "      <td>0</td>\n",
       "      <td>0</td>\n",
       "      <td>0</td>\n",
       "      <td>0</td>\n",
       "      <td>0</td>\n",
       "      <td>...</td>\n",
       "      <td>0</td>\n",
       "      <td>0</td>\n",
       "      <td>0</td>\n",
       "      <td>0</td>\n",
       "      <td>0</td>\n",
       "      <td>0</td>\n",
       "      <td>0</td>\n",
       "      <td>1</td>\n",
       "      <td>0</td>\n",
       "      <td>0</td>\n",
       "    </tr>\n",
       "    <tr>\n",
       "      <td>50004</td>\n",
       "      <td>3</td>\n",
       "      <td>0</td>\n",
       "      <td>0</td>\n",
       "      <td>0</td>\n",
       "      <td>0</td>\n",
       "      <td>0</td>\n",
       "      <td>0</td>\n",
       "      <td>0</td>\n",
       "      <td>0</td>\n",
       "      <td>0</td>\n",
       "      <td>...</td>\n",
       "      <td>0</td>\n",
       "      <td>0</td>\n",
       "      <td>0</td>\n",
       "      <td>0</td>\n",
       "      <td>0</td>\n",
       "      <td>0</td>\n",
       "      <td>0</td>\n",
       "      <td>0</td>\n",
       "      <td>0</td>\n",
       "      <td>0</td>\n",
       "    </tr>\n",
       "    <tr>\n",
       "      <td>...</td>\n",
       "      <td>...</td>\n",
       "      <td>...</td>\n",
       "      <td>...</td>\n",
       "      <td>...</td>\n",
       "      <td>...</td>\n",
       "      <td>...</td>\n",
       "      <td>...</td>\n",
       "      <td>...</td>\n",
       "      <td>...</td>\n",
       "      <td>...</td>\n",
       "      <td>...</td>\n",
       "      <td>...</td>\n",
       "      <td>...</td>\n",
       "      <td>...</td>\n",
       "      <td>...</td>\n",
       "      <td>...</td>\n",
       "      <td>...</td>\n",
       "      <td>...</td>\n",
       "      <td>...</td>\n",
       "      <td>...</td>\n",
       "      <td>...</td>\n",
       "    </tr>\n",
       "    <tr>\n",
       "      <td>99995</td>\n",
       "      <td>4</td>\n",
       "      <td>0</td>\n",
       "      <td>0</td>\n",
       "      <td>0</td>\n",
       "      <td>0</td>\n",
       "      <td>0</td>\n",
       "      <td>0</td>\n",
       "      <td>0</td>\n",
       "      <td>0</td>\n",
       "      <td>0</td>\n",
       "      <td>...</td>\n",
       "      <td>0</td>\n",
       "      <td>0</td>\n",
       "      <td>0</td>\n",
       "      <td>0</td>\n",
       "      <td>0</td>\n",
       "      <td>0</td>\n",
       "      <td>0</td>\n",
       "      <td>0</td>\n",
       "      <td>0</td>\n",
       "      <td>0</td>\n",
       "    </tr>\n",
       "    <tr>\n",
       "      <td>99996</td>\n",
       "      <td>2</td>\n",
       "      <td>0</td>\n",
       "      <td>0</td>\n",
       "      <td>1</td>\n",
       "      <td>0</td>\n",
       "      <td>0</td>\n",
       "      <td>0</td>\n",
       "      <td>0</td>\n",
       "      <td>0</td>\n",
       "      <td>0</td>\n",
       "      <td>...</td>\n",
       "      <td>0</td>\n",
       "      <td>0</td>\n",
       "      <td>0</td>\n",
       "      <td>0</td>\n",
       "      <td>0</td>\n",
       "      <td>0</td>\n",
       "      <td>0</td>\n",
       "      <td>0</td>\n",
       "      <td>0</td>\n",
       "      <td>0</td>\n",
       "    </tr>\n",
       "    <tr>\n",
       "      <td>99997</td>\n",
       "      <td>4</td>\n",
       "      <td>0</td>\n",
       "      <td>0</td>\n",
       "      <td>0</td>\n",
       "      <td>0</td>\n",
       "      <td>0</td>\n",
       "      <td>0</td>\n",
       "      <td>0</td>\n",
       "      <td>0</td>\n",
       "      <td>0</td>\n",
       "      <td>...</td>\n",
       "      <td>0</td>\n",
       "      <td>0</td>\n",
       "      <td>0</td>\n",
       "      <td>0</td>\n",
       "      <td>0</td>\n",
       "      <td>0</td>\n",
       "      <td>0</td>\n",
       "      <td>0</td>\n",
       "      <td>0</td>\n",
       "      <td>0</td>\n",
       "    </tr>\n",
       "    <tr>\n",
       "      <td>99998</td>\n",
       "      <td>1</td>\n",
       "      <td>0</td>\n",
       "      <td>0</td>\n",
       "      <td>1</td>\n",
       "      <td>1</td>\n",
       "      <td>0</td>\n",
       "      <td>0</td>\n",
       "      <td>0</td>\n",
       "      <td>1</td>\n",
       "      <td>1</td>\n",
       "      <td>...</td>\n",
       "      <td>0</td>\n",
       "      <td>0</td>\n",
       "      <td>0</td>\n",
       "      <td>0</td>\n",
       "      <td>0</td>\n",
       "      <td>0</td>\n",
       "      <td>0</td>\n",
       "      <td>0</td>\n",
       "      <td>0</td>\n",
       "      <td>0</td>\n",
       "    </tr>\n",
       "    <tr>\n",
       "      <td>99999</td>\n",
       "      <td>1</td>\n",
       "      <td>0</td>\n",
       "      <td>0</td>\n",
       "      <td>1</td>\n",
       "      <td>0</td>\n",
       "      <td>0</td>\n",
       "      <td>0</td>\n",
       "      <td>0</td>\n",
       "      <td>0</td>\n",
       "      <td>0</td>\n",
       "      <td>...</td>\n",
       "      <td>0</td>\n",
       "      <td>0</td>\n",
       "      <td>0</td>\n",
       "      <td>0</td>\n",
       "      <td>0</td>\n",
       "      <td>0</td>\n",
       "      <td>0</td>\n",
       "      <td>0</td>\n",
       "      <td>1</td>\n",
       "      <td>1</td>\n",
       "    </tr>\n",
       "  </tbody>\n",
       "</table>\n",
       "<p>50000 rows × 626 columns</p>\n",
       "</div>"
      ],
      "text/plain": [
       "       delta  stop_0  stop_1  stop_2  stop_3  stop_4  stop_5  stop_6  stop_7  \\\n",
       "id                                                                             \n",
       "50000      5       0       0       1       0       0       0       0       0   \n",
       "50001      5       0       0       0       0       0       0       0       1   \n",
       "50002      1       0       1       0       0       1       0       0       0   \n",
       "50003      2       0       0       0       0       0       0       0       0   \n",
       "50004      3       0       0       0       0       0       0       0       0   \n",
       "...      ...     ...     ...     ...     ...     ...     ...     ...     ...   \n",
       "99995      4       0       0       0       0       0       0       0       0   \n",
       "99996      2       0       0       1       0       0       0       0       0   \n",
       "99997      4       0       0       0       0       0       0       0       0   \n",
       "99998      1       0       0       1       1       0       0       0       1   \n",
       "99999      1       0       0       1       0       0       0       0       0   \n",
       "\n",
       "       stop_8  ...  stop_615  stop_616  stop_617  stop_618  stop_619  \\\n",
       "id             ...                                                     \n",
       "50000       0  ...         0         0         0         0         1   \n",
       "50001       0  ...         0         0         1         1         0   \n",
       "50002       0  ...         1         1         0         0         0   \n",
       "50003       0  ...         0         0         0         0         0   \n",
       "50004       0  ...         0         0         0         0         0   \n",
       "...       ...  ...       ...       ...       ...       ...       ...   \n",
       "99995       0  ...         0         0         0         0         0   \n",
       "99996       0  ...         0         0         0         0         0   \n",
       "99997       0  ...         0         0         0         0         0   \n",
       "99998       1  ...         0         0         0         0         0   \n",
       "99999       0  ...         0         0         0         0         0   \n",
       "\n",
       "       stop_620  stop_621  stop_622  stop_623  stop_624  \n",
       "id                                                       \n",
       "50000         0         1         0         0         1  \n",
       "50001         1         0         0         0         0  \n",
       "50002         0         1         0         1         0  \n",
       "50003         0         0         1         0         0  \n",
       "50004         0         0         0         0         0  \n",
       "...         ...       ...       ...       ...       ...  \n",
       "99995         0         0         0         0         0  \n",
       "99996         0         0         0         0         0  \n",
       "99997         0         0         0         0         0  \n",
       "99998         0         0         0         0         0  \n",
       "99999         0         0         0         1         1  \n",
       "\n",
       "[50000 rows x 626 columns]"
      ]
     },
     "execution_count": 141,
     "metadata": {},
     "output_type": "execute_result"
    }
   ],
   "source": [
    "test"
   ]
  },
  {
   "cell_type": "code",
   "execution_count": 143,
   "metadata": {},
   "outputs": [],
   "source": [
    "def process_test_data(df: pd.DataFrame) -> (np.array, np.array, np.array):\n",
    "    '''\n",
    "    takes a dataframe of the same format as the test csv loaded dataframe, extracts those boards, and \n",
    "    reshapes them to be the appropriate shape for CNN. \n",
    "    \n",
    "    inputs: df is a pandas DataFrame with train data. \n",
    "    outputs: multi-dimensional np.arrays, train are the train stop boards, y_train are the train start boards, delta \n",
    "             is the number of steps required\n",
    "    '''\n",
    "    len_data = df.shape[0]\n",
    "    delta = df.loc[:, 'delta'].values.astype('int32')\n",
    "    stop_boards = df.loc[:, ['stop_{}'.format(i) for i in range(625)]].values.astype('float32').reshape(len_data, 25, 25, 1)\n",
    "    return stop_boards, delta"
   ]
  },
  {
   "cell_type": "code",
   "execution_count": 156,
   "metadata": {},
   "outputs": [],
   "source": [
    "test_data, test_delta = process_test_data(test)"
   ]
  },
  {
   "cell_type": "code",
   "execution_count": 149,
   "metadata": {},
   "outputs": [],
   "source": [
    "def compare_preds(val, y_val, model, i):\n",
    "    '''\n",
    "    takes the ith stop board of the val, predicts the start board of it using the CNN model and plots it. \n",
    "    Plots the actual start board for comparison\n",
    "    \n",
    "    Inputs: val is a np.array of validation stop boards; y_val is an np.array of validation start boards;\n",
    "            model is a trained CNN model as above; i is an index, integer between 0 and len(val) - 1\n",
    "    Outputs: plots the prediced board, i.e. model(val[i]) alongside the actual stop board, i.e. y_val[i]\n",
    "    '''\n",
    "    pred = model.predict(val)[i]\n",
    "    pred = pred.reshape(25, 25)\n",
    "    actual = y_val[i].reshape(25, 25)\n",
    "    \n",
    "    fig, ax = plt.subplots(1, 2, figsize=(10, 8))\n",
    "    ax[0].imshow(pred, cmap='gray_r')\n",
    "    ax[0].set_title(\"Predicted start board\")\n",
    "    ax[1].imshow(actual, cmap='gray_r')\n",
    "    ax[1].set_title(\"Actual start board\")"
   ]
  },
  {
   "cell_type": "code",
   "execution_count": 155,
   "metadata": {},
   "outputs": [
    {
     "data": {
      "image/png": "[encoded data removed]",
      "text/plain": [
       "<Figure size 720x576 with 2 Axes>"
      ]
     },
     "metadata": {
      "needs_background": "light"
     },
     "output_type": "display_data"
    }
   ],
   "source": [
    "compare_preds((stop_val, delta_val), start_val, model, 50)"
   ]
  },
  {
   "cell_type": "code",
   "execution_count": 157,
   "metadata": {},
   "outputs": [],
   "source": [
    "preds = model.predict((test_data, test_delta))"
   ]
  },
  {
   "cell_type": "code",
   "execution_count": 160,
   "metadata": {},
   "outputs": [
    {
     "ename": "AttributeError",
     "evalue": "'numpy.ndarray' object has no attribute 'values'",
     "output_type": "error",
     "traceback": [
      "\u001b[0;31m---------------------------------------------------------------------------\u001b[0m",
      "\u001b[0;31mAttributeError\u001b[0m                            Traceback (most recent call last)",
      "\u001b[0;32m<ipython-input-160-73dc02763299>\u001b[0m in \u001b[0;36m<module>\u001b[0;34m\u001b[0m\n\u001b[0;32m----> 1\u001b[0;31m \u001b[0mpreds\u001b[0m\u001b[0;34m.\u001b[0m\u001b[0mvalues\u001b[0m\u001b[0;34m\u001b[0m\u001b[0;34m\u001b[0m\u001b[0m\n\u001b[0m",
      "\u001b[0;31mAttributeError\u001b[0m: 'numpy.ndarray' object has no attribute 'values'"
     ]
    }
   ],
   "source": [
    "preds.values"
   ]
  },
  {
   "cell_type": "code",
   "execution_count": null,
   "metadata": {},
   "outputs": [],
   "source": []
  }
 ],
 "metadata": {
  "kernelspec": {
   "display_name": "Python 3",
   "language": "python",
   "name": "python3"
  },
  "language_info": {
   "codemirror_mode": {
    "name": "ipython",
    "version": 3
   },
   "file_extension": ".py",
   "mimetype": "text/x-python",
   "name": "python",
   "nbconvert_exporter": "python",
   "pygments_lexer": "ipython3",
   "version": "3.7.4"
  }
 },
 "nbformat": 4,
 "nbformat_minor": 2
}
